{
 "cells": [
  {
   "cell_type": "code",
   "execution_count": 1,
   "metadata": {},
   "outputs": [],
   "source": [
    "import numpy as np\n",
    "import numpy.random as rn\n",
    "import numpy.linalg as la"
   ]
  },
  {
   "cell_type": "code",
   "execution_count": 11,
   "metadata": {},
   "outputs": [],
   "source": [
    "def GS(A, tol = 10**(-12)) :\n",
    "    m, n =A.shape\n",
    "    Idx = list()\n",
    "    Q = np.matrix(np.zeros((m, n))) #zero matrix setting\n",
    "    Q[:, 0] = A[:, 0]/la.norm(A[:, 0])\n",
    "\n",
    "    for i in range(1, n) :      #Formula of Gram Schmdit\n",
    "        Q[:, i] = A[:, i].copy()\n",
    "        for j in range(i) :\n",
    "            Q[:, j] = Q[:, j] - Q[:, j]*(float(Q[:, j].T*Q[:,i]))\n",
    "        if la.norm(Q[:, i]) > tol :   #Bewaring to the bias in order to approximate actual result\n",
    "            Q[:, i] = Q[:, i]/la.norm(Q[:, i])\n",
    "        else :\n",
    "            Idx.append(i)\n",
    "        \n",
    "    return Q, Idx"
   ]
  },
  {
   "cell_type": "code",
   "execution_count": 12,
   "metadata": {},
   "outputs": [
    {
     "output_type": "stream",
     "name": "stdout",
     "text": "[[-0.66854235 -0.84118087  0.07155467  0.52778347 -1.91091016 -0.11907348]\n [-1.75834401 -0.39528607 -0.32016465 -1.03396213  1.1906435  -0.28794331]\n [ 1.18654415  0.25893903 -0.69680371 -0.08858468  0.73679704 -0.47313373]\n [-0.19657292  0.66799789 -2.01507691  2.15807915  0.34339269 -0.30234834]]\n"
    }
   ],
   "source": [
    "A = np.matrix(rn.randn(4, 6))\n",
    "print(A)"
   ]
  },
  {
   "cell_type": "code",
   "execution_count": 13,
   "metadata": {},
   "outputs": [],
   "source": [
    "Q, Idx = GS(A)"
   ]
  },
  {
   "cell_type": "code",
   "execution_count": 14,
   "metadata": {},
   "outputs": [
    {
     "output_type": "execute_result",
     "data": {
      "text/plain": "matrix([[-8.91887165e-02, -1.64300561e+01, -1.01348885e+00,\n          4.40959626e-01, -9.87626842e-01, -1.85428646e-01],\n        [-2.34576679e-01, -7.72077991e+00,  4.53476057e+00,\n         -8.63868582e-01,  6.15367226e-01, -4.48403291e-01],\n        [ 1.58294159e-01,  5.05763133e+00,  9.86941556e+00,\n         -7.40119215e-02,  3.80803111e-01, -7.36793360e-01],\n        [-2.62243468e-02,  1.30474232e+01,  2.85412247e+01,\n          1.80306099e+00,  1.77477649e-01, -4.70835694e-01]])"
     },
     "metadata": {},
     "execution_count": 14
    }
   ],
   "source": [
    "Q"
   ]
  },
  {
   "cell_type": "code",
   "execution_count": 15,
   "metadata": {},
   "outputs": [
    {
     "output_type": "execute_result",
     "data": {
      "text/plain": "[]"
     },
     "metadata": {},
     "execution_count": 15
    }
   ],
   "source": [
    "Idx"
   ]
  },
  {
   "cell_type": "code",
   "execution_count": null,
   "metadata": {},
   "outputs": [],
   "source": []
  }
 ],
 "metadata": {
  "language_info": {
   "codemirror_mode": {
    "name": "ipython",
    "version": 3
   },
   "file_extension": ".py",
   "mimetype": "text/x-python",
   "name": "python",
   "nbconvert_exporter": "python",
   "pygments_lexer": "ipython3",
   "version": "3.7.6-final"
  },
  "orig_nbformat": 2,
  "kernelspec": {
   "name": "python37664bitbaseconda0ce9368b2d704c2e9be59ed432e4e65b",
   "display_name": "Python 3.7.6 64-bit ('base': conda)"
  }
 },
 "nbformat": 4,
 "nbformat_minor": 2
}