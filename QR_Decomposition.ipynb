{
 "cells": [
  {
   "cell_type": "code",
   "execution_count": 1,
   "metadata": {},
   "outputs": [],
   "source": [
    "import numpy as np\n",
    "import numpy.random as rn\n",
    "import numpy.linalg as la"
   ]
  },
  {
   "cell_type": "code",
   "execution_count": 9,
   "metadata": {},
   "outputs": [],
   "source": [
    "#QR decomposition for square matrix\n",
    "\n",
    "def SQR(A, tol = 10**(-14)) :\n",
    "    m, n = A.shape\n",
    "    Q = np.matrix(np.zeros((m, m)))\n",
    "    R = np.matrix(np.zeros((m, m)))\n",
    "\n",
    "    for i in range(m) :\n",
    "        Q[:, i] = A[:, i].copy()\n",
    "        for j in range(i) :\n",
    "            R[j, i] = float(Q[:, j].T*Q[:, i])\n",
    "            Q[:, i] = Q[:, i] -  R[j, i]*Q[:, j]\n",
    "        if abs(la.norm(Q[:, i])) > tol :\n",
    "            R[i, i] = la.norm(Q[:, i])\n",
    "            Q[:, i] = Q[:, i]/R[i, i]\n",
    "\n",
    "    return Q, R"
   ]
  },
  {
   "cell_type": "code",
   "execution_count": 13,
   "metadata": {},
   "outputs": [],
   "source": [
    "A = np.matrix(np.round(rn.randn(3, 3)*10))"
   ]
  },
  {
   "cell_type": "code",
   "execution_count": 14,
   "metadata": {},
   "outputs": [
    {
     "output_type": "execute_result",
     "data": {
      "text/plain": "matrix([[-0.,  4., 10.],\n        [25., -4., -1.],\n        [ 6., -6.,  6.]])"
     },
     "metadata": {},
     "execution_count": 14
    }
   ],
   "source": [
    "A"
   ]
  },
  {
   "cell_type": "code",
   "execution_count": 26,
   "metadata": {},
   "outputs": [
    {
     "output_type": "execute_result",
     "data": {
      "text/plain": "(matrix([[-0.0696733 , -0.53981136, -0.83889769],\n         [-0.90575292,  0.38663526, -0.17356504],\n         [-0.41803981, -0.74774118,  0.51587387]]),\n matrix([[14.35270009,  2.85660536, -3.62301167],\n         [ 0.        , 14.4512908 ,  1.75413497],\n         [ 0.        ,  0.        , 17.05276508]]))"
     },
     "metadata": {},
     "execution_count": 26
    }
   ],
   "source": [
    "SQR(A)"
   ]
  },
  {
   "cell_type": "code",
   "execution_count": 24,
   "metadata": {},
   "outputs": [],
   "source": [
    "#QR for general matrices\n",
    "\n",
    "def QR(A, tol=10**-14) :\n",
    "    m, n = A.shape\n",
    "    p = min(m, n)\n",
    "\n",
    "    if m>=n :\n",
    "        Q = np.matrix(np.zeros((m, n)))\n",
    "        R = np.matrix(np.zeros((n, n)))\n",
    "    else :\n",
    "        Q = np.matrix(np.zeros((m, m)))\n",
    "        R = np.matrix(np.zeros((m, n)))\n",
    "    r = 0 #record the rank of A\n",
    "    i = 0 #record the index of the column\n",
    "\n",
    "    while r<p and i<n :\n",
    "        Q[:, r] = A[:, i].copy()\n",
    "        for j in range(r) :\n",
    "            R[j, i] = float(Q[:, j].T*A[:, i])\n",
    "            Q[:, r] = Q[:, r] -  R[j, i]*Q[:, j]\n",
    "        if abs(la.norm(Q[:, r])) > tol :\n",
    "            R[r, i] = la.norm(Q[:, r])\n",
    "            Q[:, r] = Q[:, r]/R[r, i]\n",
    "            r+=1\n",
    "        i+=1\n",
    "    R[:, m:] = Q.T*A[:, m:]\n",
    "\n",
    "    return Q, R\n",
    "        \n"
   ]
  },
  {
   "cell_type": "code",
   "execution_count": 21,
   "metadata": {},
   "outputs": [],
   "source": [
    "A = np.matrix(np.round(rn.randn(3, 3)*10))"
   ]
  },
  {
   "cell_type": "code",
   "execution_count": 22,
   "metadata": {},
   "outputs": [
    {
     "output_type": "execute_result",
     "data": {
      "text/plain": "matrix([[ -1.,  -8., -15.],\n        [-13.,   3.,   1.],\n        [ -6., -12.,   9.]])"
     },
     "metadata": {},
     "execution_count": 22
    }
   ],
   "source": [
    "A"
   ]
  },
  {
   "cell_type": "code",
   "execution_count": 25,
   "metadata": {},
   "outputs": [
    {
     "output_type": "execute_result",
     "data": {
      "text/plain": "(matrix([[-0.0696733 , -0.53981136, -0.83889769],\n         [-0.90575292,  0.38663526, -0.17356504],\n         [-0.41803981, -0.74774118,  0.51587387]]),\n matrix([[14.35270009,  2.85660536, -3.62301167],\n         [ 0.        , 14.4512908 ,  1.75413497],\n         [ 0.        ,  0.        , 17.05276508]]))"
     },
     "metadata": {},
     "execution_count": 25
    }
   ],
   "source": [
    "QR(A)"
   ]
  },
  {
   "cell_type": "code",
   "execution_count": null,
   "metadata": {},
   "outputs": [],
   "source": []
  }
 ],
 "metadata": {
  "language_info": {
   "codemirror_mode": {
    "name": "ipython",
    "version": 3
   },
   "file_extension": ".py",
   "mimetype": "text/x-python",
   "name": "python",
   "nbconvert_exporter": "python",
   "pygments_lexer": "ipython3",
   "version": "3.7.6-final"
  },
  "orig_nbformat": 2,
  "kernelspec": {
   "name": "python37664bitbaseconda0ce9368b2d704c2e9be59ed432e4e65b",
   "display_name": "Python 3.7.6 64-bit ('base': conda)"
  }
 },
 "nbformat": 4,
 "nbformat_minor": 2
}